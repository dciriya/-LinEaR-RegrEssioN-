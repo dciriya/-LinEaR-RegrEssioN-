{
 "cells": [
  {
   "cell_type": "code",
   "execution_count": 19,
   "metadata": {},
   "outputs": [
    {
     "name": "stdout",
     "output_type": "stream",
     "text": [
      "<class 'list'>\n",
      "['자치구', '계', '종로구', '중구', '용산구', '성동구', '광진구', '동대문구', '중랑구', '성북구', '강북구', '도봉구', '노원구', '은평구', '서대문구', '마포구', '양천구', '강서구', '구로구', '금천구', '영등포구', '동작구', '관악구', '서초구', '강남구', '송파구', '강동구']\n",
      "\n",
      "\n",
      "<class 'pandas.core.frame.DataFrame'>\n",
      "(25, 3)\n",
      "+----------+----------+----------+-----+\n",
      "|          | 단란주점 | 유흥주점 |  계 |\n",
      "+----------+----------+----------+-----+\n",
      "|  종로구  |   135    |   220    | 355 |\n",
      "|   중구   |    91    |   229    | 320 |\n",
      "|  용산구  |   106    |    30    | 136 |\n",
      "|  성동구  |    42    |    23    |  65 |\n",
      "|  광진구  |    86    |    18    | 104 |\n",
      "| 동대문구 |   114    |    75    | 189 |\n",
      "|  중랑구  |   104    |    26    | 130 |\n",
      "|  성북구  |    69    |    8     |  77 |\n",
      "|  강북구  |   127    |    74    | 201 |\n",
      "|  도봉구  |    55    |    23    |  78 |\n",
      "|  노원구  |    51    |    24    |  75 |\n",
      "|  은평구  |   138    |    77    | 215 |\n",
      "| 서대문구 |    66    |    30    |  96 |\n",
      "|  마포구  |    84    |    64    | 148 |\n",
      "|  양천구  |    73    |    5     |  78 |\n",
      "|  강서구  |   168    |   133    | 301 |\n",
      "|  구로구  |    97    |    33    | 130 |\n",
      "|  금천구  |    78    |    53    | 131 |\n",
      "| 영등포구 |   256    |   171    | 427 |\n",
      "|  동작구  |    51    |    49    | 100 |\n",
      "|  관악구  |    94    |   220    | 314 |\n",
      "|  서초구  |   111    |    72    | 183 |\n",
      "|  강남구  |   287    |   233    | 520 |\n",
      "|  송파구  |   174    |   103    | 277 |\n",
      "|  강동구  |    95    |   143    | 238 |\n",
      "+----------+----------+----------+-----+\n",
      "\n",
      "\n"
     ]
    }
   ],
   "source": [
    "from print_df import print_df \n",
    "from pandas import ExcelFile\n",
    "from pandas import DataFrame\n",
    "\n",
    "import pandas as pd\n",
    "\n",
    "#-------------------------------------\n",
    "# 엑셀파일 읽은 후 데이터 전처리\n",
    "#-------------------------------------\n",
    "entertainment = ExcelFile('식품위생업소현황.xls')\n",
    "\n",
    "sheet_names = entertainment.sheet_names\n",
    "df = entertainment.parse(sheet_names[0])\n",
    "\n",
    "restrict_list = list(df['자치구']) \n",
    "print_df(restrict_list)\n",
    "\n",
    "index_dict = {}\n",
    "for i, v in enumerate(restrict_list):\n",
    "    index_dict[i] = v\n",
    "\n",
    "# 필요한 곳까지의 데이터만 보기\n",
    "df = df.iloc[:, :9]\n",
    "\n",
    "# 쓰지않는 열과 행 제거\n",
    "df.drop(df.iloc[:,2:7], axis=1, inplace=True)\n",
    "df.drop(['기간','자치구'], axis=1, inplace=True)\n",
    "df.drop([0,1], inplace=True)\n",
    "\n",
    "# 열 이름 변경\n",
    "df.rename(columns={'식품접객업.4':'단란주점'}, inplace=True)\n",
    "df.rename(columns={'식품접객업.5':'유흥주점'}, inplace=True)\n",
    "\n",
    "df['계'] = df['단란주점'] + df['유흥주점']\n",
    "\n",
    "# 인덱스 이름 변경\n",
    "df.rename(index=index_dict, inplace=True)\n",
    "print_df(df)\n",
    "\n",
    "# 엑셀 파일로 저장\n",
    "filename = \"entertainment.xlsx\"\n",
    "df.to_excel(filename, encoding='utf-8', sheet_name='서울시 유흥접객업소 수', \n",
    "             index=True, index_label='자치구')"
   ]
  },
  {
   "cell_type": "code",
   "execution_count": null,
   "metadata": {},
   "outputs": [],
   "source": []
  }
 ],
 "metadata": {
  "kernelspec": {
   "display_name": "Python 3",
   "language": "python",
   "name": "python3"
  },
  "language_info": {
   "codemirror_mode": {
    "name": "ipython",
    "version": 3
   },
   "file_extension": ".py",
   "mimetype": "text/x-python",
   "name": "python",
   "nbconvert_exporter": "python",
   "pygments_lexer": "ipython3",
   "version": "3.7.4"
  }
 },
 "nbformat": 4,
 "nbformat_minor": 4
}
