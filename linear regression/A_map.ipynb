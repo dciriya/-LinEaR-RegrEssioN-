{
 "cells": [
  {
   "cell_type": "code",
   "execution_count": 1,
   "metadata": {},
   "outputs": [
    {
     "name": "stderr",
     "output_type": "stream",
     "text": [
      "c:\\users\\ezen\\appdata\\local\\programs\\python\\python37\\lib\\site-packages\\folium\\folium.py:415: FutureWarning: The choropleth  method has been deprecated. Instead use the new Choropleth class, which has the same arguments. See the example notebook 'GeoJSON_and_choropleth' for how to do this.\n",
      "  FutureWarning\n"
     ]
    }
   ],
   "source": [
    "import folium\n",
    "import json\n",
    "import pandas as pd\n",
    "\n",
    "pop_data = pd.read_excel('apartment.xlsx', encoding='UTF-8')\n",
    "pop_data.head()\n",
    "\n",
    "geo_path = '서울시지도.json'\n",
    "geo_str = json.load(open(geo_path, encoding='utf-8-sig'))\n",
    "\n",
    "map = folium.Map(location=[37.563, 126.982], zoon_start=20)\n",
    "map.choropleth(geo_data=geo_str, data=pop_data, columns=['자치구', '계'], fill_color='Greens', key_on='feature.properties.SIG_KOR_NM', reset=True)\n",
    "\n",
    "map.save('D:/subin/linear regression/A_map.html')"
   ]
  },
  {
   "cell_type": "code",
   "execution_count": null,
   "metadata": {},
   "outputs": [],
   "source": []
  }
 ],
 "metadata": {
  "kernelspec": {
   "display_name": "Python 3",
   "language": "python",
   "name": "python3"
  },
  "language_info": {
   "codemirror_mode": {
    "name": "ipython",
    "version": 3
   },
   "file_extension": ".py",
   "mimetype": "text/x-python",
   "name": "python",
   "nbconvert_exporter": "python",
   "pygments_lexer": "ipython3",
   "version": "3.7.4"
  }
 },
 "nbformat": 4,
 "nbformat_minor": 4
}
