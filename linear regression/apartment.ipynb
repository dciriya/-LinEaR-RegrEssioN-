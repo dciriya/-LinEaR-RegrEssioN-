{
 "cells": [
  {
   "cell_type": "code",
   "execution_count": 49,
   "metadata": {},
   "outputs": [
    {
     "name": "stdout",
     "output_type": "stream",
     "text": [
      "<class 'pandas.core.series.Series'>\n",
      "자치구\n",
      "강남구     162356\n",
      "강동구     111134\n",
      "강북구      75834\n",
      "강서구     178677\n",
      "관악구     101631\n",
      "광진구      68142\n",
      "구로구     111896\n",
      "금천구      55486\n",
      "노원구     179052\n",
      "도봉구      95894\n",
      "동대문구     79660\n",
      "동작구      96053\n",
      "마포구     104812\n",
      "서대문구     80546\n",
      "서초구     124317\n",
      "성동구      75793\n",
      "성북구     104297\n",
      "송파구     189679\n",
      "양천구     129001\n",
      "영등포구     84144\n",
      "용산구      56140\n",
      "은평구     127294\n",
      "종로구      32098\n",
      "중구       33080\n",
      "중랑구      84966\n",
      "Name: 계, dtype: int64\n",
      "\n",
      "\n"
     ]
    }
   ],
   "source": [
    "from print_df import print_df \n",
    "from pandas import ExcelFile\n",
    "from pandas import DataFrame\n",
    "import numpy as np\n",
    "import pandas as pd\n",
    "\n",
    "#-------------------------------------\n",
    "# 엑셀파일 읽은 후 데이터 전처리\n",
    "#-------------------------------------\n",
    "house = ExcelFile('서울시 건축연도별 주택현황.xls')\n",
    "\n",
    "sheet_names = dwelling.sheet_names\n",
    "df = house.parse(sheet_names[0])\n",
    "\n",
    "# 가장 최근의 데이터만 필요하기 때문에 건축연도는 지우고 총 계만 보도록 한다.\n",
    "df = df.iloc[:, 0:4]\n",
    "\n",
    "# '서울시' 데이터 제거\n",
    "idx_seoul = df[df['자치구'] == '서울시'].index\n",
    "df = df.drop(idx_seoul)\n",
    "\n",
    "# 아파트, 연립주택, 다세대주택 데이터만 추출\n",
    "A_data = df[(df['주택종류별'] != '아파트') & (df['주택종류별'] != '연립주택') & (df['주택종류별'] != '다세대주택')].index\n",
    "df = df.drop(A_data)\n",
    "\n",
    "# 아파트, 연립주택, 다세대주택 데이터 합치기\n",
    "grouped = df['계'].groupby(df['자치구'])\n",
    "df = grouped.sum()\n",
    "\n",
    "print_df(df)\n",
    "\n",
    "# 엑셀 파일로 저장\n",
    "filename = \"apartment.xlsx\"\n",
    "df.to_excel(filename, encoding='utf-8', sheet_name='서울시 아파트, 연립주택, 다세대주택 수', \n",
    "            index=True, index_label='자치구')"
   ]
  },
  {
   "cell_type": "code",
   "execution_count": null,
   "metadata": {},
   "outputs": [],
   "source": []
  },
  {
   "cell_type": "code",
   "execution_count": null,
   "metadata": {},
   "outputs": [],
   "source": []
  }
 ],
 "metadata": {
  "kernelspec": {
   "display_name": "Python 3",
   "language": "python",
   "name": "python3"
  },
  "language_info": {
   "codemirror_mode": {
    "name": "ipython",
    "version": 3
   },
   "file_extension": ".py",
   "mimetype": "text/x-python",
   "name": "python",
   "nbconvert_exporter": "python",
   "pygments_lexer": "ipython3",
   "version": "3.7.4"
  }
 },
 "nbformat": 4,
 "nbformat_minor": 4
}
