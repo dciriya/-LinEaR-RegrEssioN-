{
 "cells": [
  {
   "cell_type": "code",
   "execution_count": 17,
   "metadata": {},
   "outputs": [
    {
     "name": "stdout",
     "output_type": "stream",
     "text": [
      "<class 'list'>\n",
      "['자치구', '자치구', '합계', '종로구', '중구', '용산구', '성동구', '광진구', '동대문구', '중랑구', '성북구', '강북구', '도봉구', '노원구', '은평구', '서대문구', '마포구', '양천구', '강서구', '구로구', '금천구', '영등포구', '동작구', '관악구', '서초구', '강남구', '송파구', '강동구']\n",
      "\n",
      "\n",
      "<class 'pandas.core.frame.DataFrame'>\n",
      "(25, 1)\n",
      "+----------+-------+\n",
      "|          |   계  |\n",
      "+----------+-------+\n",
      "|  종로구  | 10738 |\n",
      "|   중구   | 21977 |\n",
      "|  용산구  |  435  |\n",
      "|  성동구  |  2823 |\n",
      "|  광진구  |  652  |\n",
      "| 동대문구 |  2536 |\n",
      "|  중랑구  |  979  |\n",
      "|  성북구  |  966  |\n",
      "|  강북구  |  731  |\n",
      "|  도봉구  |  353  |\n",
      "|  노원구  |  158  |\n",
      "|  은평구  |  829  |\n",
      "| 서대문구 |  807  |\n",
      "|  마포구  |  1368 |\n",
      "|  양천구  |  567  |\n",
      "|  강서구  |  666  |\n",
      "|  구로구  |  562  |\n",
      "|  금천구  |  994  |\n",
      "| 영등포구 |  3568 |\n",
      "|  동작구  |  711  |\n",
      "|  관악구  |  998  |\n",
      "|  서초구  |  773  |\n",
      "|  강남구  |  1499 |\n",
      "|  송파구  |  1128 |\n",
      "|  강동구  |  1174 |\n",
      "+----------+-------+\n",
      "\n",
      "\n"
     ]
    }
   ],
   "source": [
    "from print_df import print_df \n",
    "from pandas import ExcelFile\n",
    "from pandas import DataFrame\n",
    "\n",
    "import pandas as pd\n",
    "\n",
    "#-------------------------------------\n",
    "# 엑셀파일 읽은 후 데이터 전처리\n",
    "#-------------------------------------\n",
    "store = ExcelFile('서울시 시장현황 통계.xls')\n",
    "\n",
    "sheet_names = store.sheet_names\n",
    "df = store.parse(sheet_names[0])\n",
    "\n",
    "restrict_list = list(df['자치구']) \n",
    "print_df(restrict_list)\n",
    "\n",
    "index_dict = {}\n",
    "for i, v in enumerate(restrict_list):\n",
    "    index_dict[i] = v\n",
    "    \n",
    "# 필요한 곳까지의 데이터만 보기\n",
    "df = df.iloc[3:, :4]\n",
    "\n",
    "# 쓰지않는 열과 행 제거\n",
    "df.drop(['기간','합계','자치구'], axis=1, inplace=True)\n",
    "\n",
    "# 열 이름 변경\n",
    "df.rename(columns={'합계.1':'계'}, inplace=True)\n",
    "\n",
    "# 인덱스 이름 변경\n",
    "df.rename(index=index_dict, inplace=True)\n",
    "print_df(df)\n",
    "\n",
    "# 엑셀 파일로 저장\n",
    "filename = \"store.xlsx\"\n",
    "df.to_excel(filename, encoding='utf-8', sheet_name='서울시 상점 수', \n",
    "             index=True, index_label='자치구')"
   ]
  },
  {
   "cell_type": "code",
   "execution_count": null,
   "metadata": {},
   "outputs": [],
   "source": []
  }
 ],
 "metadata": {
  "kernelspec": {
   "display_name": "Python 3",
   "language": "python",
   "name": "python3"
  },
  "language_info": {
   "codemirror_mode": {
    "name": "ipython",
    "version": 3
   },
   "file_extension": ".py",
   "mimetype": "text/x-python",
   "name": "python",
   "nbconvert_exporter": "python",
   "pygments_lexer": "ipython3",
   "version": "3.7.4"
  }
 },
 "nbformat": 4,
 "nbformat_minor": 4
}
