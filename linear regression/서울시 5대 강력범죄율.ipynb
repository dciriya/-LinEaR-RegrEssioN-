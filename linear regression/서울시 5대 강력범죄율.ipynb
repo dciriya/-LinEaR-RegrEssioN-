{
 "cells": [
  {
   "cell_type": "code",
   "execution_count": 27,
   "metadata": {},
   "outputs": [],
   "source": [
    "from print_df import print_df \n",
    "from pandas import ExcelFile\n",
    "from pandas import DataFrame\n",
    "import pandas as pd\n",
    "\n",
    "# 인구 엑셀\n",
    "pop = pd.read_excel('population_Seoul.xlsx')\n",
    "# 쓰지 않는 열 제거\n",
    "pop.drop('세대', axis=1, inplace=True)\n",
    "\n",
    "# 범죄 건수 엑셀\n",
    "crime = pd.read_excel('5crime.xlsx')\n",
    "\n",
    "# 두 엑셀 합치기\n",
    "result = pd.merge(df1,df2, on='자치구')\n",
    "\n",
    "# 범죄율 칼럼을 새로 만들고 내림차순으로 정렬\n",
    "result['범죄율'] = result['발생'] / result['인구'] * 100\n",
    "\n",
    "result.sort_values(by='범죄율', ascending=False, inplace=True)\n",
    "\n",
    "# 인덱스 이름 변경\n",
    "result.set_index('자치구', inplace=True)\n",
    "result.head(10)\n",
    "\n",
    "# 엑셀 파일로 저장\n",
    "filename = \"pop_crime_rate.xlsx\"\n",
    "result.to_excel(filename, encoding='utf-8', sheet_name='서울시 5대 강력범죄율', \n",
    "             index=True, index_label='자치구')"
   ]
  },
  {
   "cell_type": "code",
   "execution_count": null,
   "metadata": {},
   "outputs": [],
   "source": []
  }
 ],
 "metadata": {
  "kernelspec": {
   "display_name": "Python 3",
   "language": "python",
   "name": "python3"
  },
  "language_info": {
   "codemirror_mode": {
    "name": "ipython",
    "version": 3
   },
   "file_extension": ".py",
   "mimetype": "text/x-python",
   "name": "python",
   "nbconvert_exporter": "python",
   "pygments_lexer": "ipython3",
   "version": "3.7.4"
  }
 },
 "nbformat": 4,
 "nbformat_minor": 4
}
